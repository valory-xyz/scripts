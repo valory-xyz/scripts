{
 "cells": [
  {
   "cell_type": "markdown",
   "metadata": {},
   "source": [
    "In this notebook, we will analyse the profitability of traders\n",
    "- uses summary_profitability.csv\n",
    "\n",
    "Analysis method used;\n",
    "- `profitability.py` is used to generate required data for this analysis\n",
    "- the above script requires `tools.csv` which is extracted using `tools.py`\n",
    "- `profitability.py` makes two CSVs\n",
    "    - `all_trades_profitability.csv` a csv analysing all the trades\n",
    "    - `summary_profitability.csv` a csv summarizing the above for each trader\n",
    "- in the analysis, only `closed` market trades are analysed (everything else is skipped)"
   ]
  },
  {
   "cell_type": "code",
   "execution_count": 26,
   "metadata": {},
   "outputs": [],
   "source": [
    "import pandas as pd\n",
    "import matplotlib.pyplot as plt\n",
    "\n",
    "pd.set_option('display.precision', 4)\n",
    "plt.style.use('ggplot')"
   ]
  },
  {
   "cell_type": "code",
   "execution_count": 28,
   "metadata": {},
   "outputs": [],
   "source": [
    "all_trades = pd.read_csv('./data/all_trades_profitability.csv')\n",
    "summary = pd.read_csv('./data/summary_profitability.csv')\n",
    "\n",
    "# select only traders who have traded at least 10 times\n",
    "summary = summary[summary['num_trades'] >= 15]"
   ]
  },
  {
   "cell_type": "code",
   "execution_count": 29,
   "metadata": {},
   "outputs": [
    {
     "data": {
      "text/plain": [
       "Index(['trader_address', 'trade_id', 'creation_timestamp', 'title',\n",
       "       'market_status', 'collateral_amount', 'outcome_index',\n",
       "       'trade_fee_amount', 'outcomes_tokens_traded', 'current_answer',\n",
       "       'is_invalid', 'winning_trade', 'earnings', 'redeemed',\n",
       "       'redeemed_amount', 'num_mech_calls', 'mech_fee_amount', 'net_earnings',\n",
       "       'roi'],\n",
       "      dtype='object')"
      ]
     },
     "execution_count": 29,
     "metadata": {},
     "output_type": "execute_result"
    }
   ],
   "source": [
    "all_trades.columns"
   ]
  },
  {
   "cell_type": "code",
   "execution_count": 30,
   "metadata": {},
   "outputs": [
    {
     "data": {
      "text/plain": [
       "Index(['trader_address', 'num_trades', 'num_winning_trades', 'num_redeemed',\n",
       "       'total_investment', 'total_trade_fees', 'num_mech_calls',\n",
       "       'total_mech_fees', 'total_earnings', 'total_redeemed_amount',\n",
       "       'total_net_earnings', 'total_roi', 'mean_mech_calls_per_trade',\n",
       "       'mean_mech_fee_amount_per_trade', 'total_net_earnings_wo_mech_fees',\n",
       "       'total_roi_wo_mech_fees'],\n",
       "      dtype='object')"
      ]
     },
     "execution_count": 30,
     "metadata": {},
     "output_type": "execute_result"
    }
   ],
   "source": [
    "summary.columns"
   ]
  },
  {
   "cell_type": "code",
   "execution_count": 31,
   "metadata": {},
   "outputs": [
    {
     "name": "stdout",
     "output_type": "stream",
     "text": [
      "Number of traders: 93\n"
     ]
    }
   ],
   "source": [
    "# number of traders\n",
    "print(f\"Number of traders: {len(summary)}\")"
   ]
  },
  {
   "cell_type": "code",
   "execution_count": 32,
   "metadata": {},
   "outputs": [
    {
     "name": "stdout",
     "output_type": "stream",
     "text": [
      "Number of trades: 36,190\n"
     ]
    }
   ],
   "source": [
    "# Number of trades\n",
    "print(f\"Number of trades: {all_trades['trade_id'].nunique():,}\")"
   ]
  },
  {
   "cell_type": "code",
   "execution_count": 33,
   "metadata": {},
   "outputs": [
    {
     "data": {
      "text/plain": [
       "0.25      51.0\n",
       "0.50     236.0\n",
       "0.75     509.0\n",
       "0.90     846.2\n",
       "0.95    1318.6\n",
       "0.99    2400.4\n",
       "Name: num_trades, dtype: float64"
      ]
     },
     "execution_count": 33,
     "metadata": {},
     "output_type": "execute_result"
    }
   ],
   "source": [
    "# Stats of trades per trader\n",
    "summary['num_trades'].quantile([0.25, 0.5, 0.75, 0.9, 0.95, 0.99])\n",
    "# Median trader makes about 236 trades"
   ]
  },
  {
   "cell_type": "code",
   "execution_count": 34,
   "metadata": {},
   "outputs": [
    {
     "data": {
      "text/plain": [
       "0.25      134.0\n",
       "0.50      548.0\n",
       "0.75     1669.0\n",
       "0.90     3869.0\n",
       "0.95    10396.4\n",
       "0.99    20135.4\n",
       "Name: num_mech_calls, dtype: float64"
      ]
     },
     "execution_count": 34,
     "metadata": {},
     "output_type": "execute_result"
    }
   ],
   "source": [
    "# Stats of num_mech_calls per trader\n",
    "summary['num_mech_calls'].quantile([0.25, 0.5, 0.75, 0.9, 0.95, 0.99])"
   ]
  },
  {
   "cell_type": "code",
   "execution_count": 35,
   "metadata": {},
   "outputs": [
    {
     "data": {
      "text/plain": [
       "0.25     1.0\n",
       "0.50     3.0\n",
       "0.75     4.0\n",
       "0.90     8.0\n",
       "0.95    12.0\n",
       "0.99    49.0\n",
       "Name: num_mech_calls, dtype: float64"
      ]
     },
     "execution_count": 35,
     "metadata": {},
     "output_type": "execute_result"
    }
   ],
   "source": [
    "# Stats of num_mech_calls per trade - median makes 3 mech calls per trade\n",
    "all_trades['num_mech_calls'].quantile([0.25, 0.5, 0.75, 0.9, 0.95, 0.99])"
   ]
  },
  {
   "cell_type": "code",
   "execution_count": 36,
   "metadata": {},
   "outputs": [
    {
     "data": {
      "text/plain": [
       "0.25      25.00\n",
       "0.50     103.00\n",
       "0.75     218.00\n",
       "0.90     382.80\n",
       "0.95     596.40\n",
       "0.99    1122.04\n",
       "Name: num_winning_trades, dtype: float64"
      ]
     },
     "execution_count": 36,
     "metadata": {},
     "output_type": "execute_result"
    }
   ],
   "source": [
    "# Stats of winning_trades per trader\n",
    "summary['num_winning_trades'].apply(lambda x: int(x)).quantile([0.25, 0.5, 0.75, 0.9, 0.95, 0.99])"
   ]
  },
  {
   "cell_type": "code",
   "execution_count": 37,
   "metadata": {},
   "outputs": [
    {
     "data": {
      "text/plain": [
       "0.25    0.4197\n",
       "0.50    0.4545\n",
       "0.75    0.4794\n",
       "0.90    0.5372\n",
       "0.95    0.5677\n",
       "0.99    0.6858\n",
       "Name: perc_winning_trades, dtype: float64"
      ]
     },
     "execution_count": 37,
     "metadata": {},
     "output_type": "execute_result"
    }
   ],
   "source": [
    "summary['perc_winning_trades'] = summary['num_winning_trades'].map(int) / summary['num_trades']\n",
    "\n",
    "# Stats of winning_trades per trade\n",
    "summary['perc_winning_trades'].quantile([0.25, 0.5, 0.75, 0.9, 0.95, 0.99])"
   ]
  },
  {
   "cell_type": "code",
   "execution_count": 38,
   "metadata": {},
   "outputs": [
    {
     "data": {
      "text/plain": [
       "0.25   -23.3910\n",
       "0.50    -7.4054\n",
       "0.60    -4.9755\n",
       "0.70    -2.7644\n",
       "0.75    -1.6614\n",
       "0.90    -0.1711\n",
       "0.95     1.5745\n",
       "0.99    87.8129\n",
       "Name: total_net_earnings, dtype: float64"
      ]
     },
     "execution_count": 38,
     "metadata": {},
     "output_type": "execute_result"
    }
   ],
   "source": [
    "# stats on net earnings per trader\n",
    "summary['total_net_earnings'].quantile([0.25, 0.5, 0.6, 0.7, 0.75, 0.9, 0.95, 0.99])"
   ]
  },
  {
   "cell_type": "code",
   "execution_count": 39,
   "metadata": {},
   "outputs": [
    {
     "data": {
      "text/plain": [
       "0.25    -4.7586\n",
       "0.50    -1.9011\n",
       "0.60    -0.9722\n",
       "0.70    -0.3899\n",
       "0.75    -0.1381\n",
       "0.90     1.6991\n",
       "0.95     4.6127\n",
       "0.99    90.8397\n",
       "Name: total_net_earnings_wo_mech_fees, dtype: float64"
      ]
     },
     "execution_count": 39,
     "metadata": {},
     "output_type": "execute_result"
    }
   ],
   "source": [
    "# stats on net earnings per trader without mech calls\n",
    "summary['total_net_earnings_wo_mech_fees'].quantile([0.25, 0.5, 0.6, 0.7, 0.75, 0.9, 0.95, 0.99])"
   ]
  },
  {
   "cell_type": "code",
   "execution_count": 40,
   "metadata": {},
   "outputs": [
    {
     "data": {
      "text/plain": [
       "0.25    0.0329\n",
       "0.50    0.0600\n",
       "0.60    0.0800\n",
       "0.70    0.1000\n",
       "0.75    0.1000\n",
       "0.90    0.1208\n",
       "0.95    0.2384\n",
       "0.99    2.2200\n",
       "Name: collateral_amount, dtype: float64"
      ]
     },
     "execution_count": 40,
     "metadata": {},
     "output_type": "execute_result"
    }
   ],
   "source": [
    "# stats on average collateral per trade. Seems very low considering per mech call fee of 0.01 (and per trade fee of 2%)\n",
    "all_trades['collateral_amount'].quantile([0.25, 0.5, 0.6, 0.7, 0.75, 0.9, 0.95, 0.99])\n",
    "\n",
    "# taking 50th percentile of collateral amount per trade\n",
    "# each trader loses about 50% of their collateral per trade on fees (assuming only one mech call)"
   ]
  },
  {
   "cell_type": "code",
   "execution_count": 41,
   "metadata": {},
   "outputs": [
    {
     "data": {
      "text/plain": [
       "0.25   -1.5450\n",
       "0.50   -1.1450\n",
       "0.60   -0.5518\n",
       "0.70    0.1862\n",
       "0.75    0.3756\n",
       "0.90    0.6839\n",
       "0.95    0.7770\n",
       "0.99    0.9133\n",
       "Name: roi, dtype: float64"
      ]
     },
     "execution_count": 41,
     "metadata": {},
     "output_type": "execute_result"
    }
   ],
   "source": [
    "# stats on ROI per trade\n",
    "all_trades['roi'].quantile([0.25, 0.5, 0.6, 0.7, 0.75, 0.9, 0.95, 0.99])"
   ]
  },
  {
   "cell_type": "code",
   "execution_count": 42,
   "metadata": {},
   "outputs": [
    {
     "data": {
      "text/plain": [
       "0.25   -0.7403\n",
       "0.50   -0.4751\n",
       "0.60   -0.4227\n",
       "0.70   -0.3262\n",
       "0.75   -0.3038\n",
       "0.90   -0.0370\n",
       "0.95    0.1351\n",
       "0.99    0.3781\n",
       "Name: total_roi, dtype: float64"
      ]
     },
     "execution_count": 42,
     "metadata": {},
     "output_type": "execute_result"
    }
   ],
   "source": [
    "# stats on ROI per trader\n",
    "summary['total_roi'].quantile([0.25, 0.5, 0.6, 0.7, 0.75, 0.9, 0.95, 0.99])"
   ]
  },
  {
   "cell_type": "code",
   "execution_count": null,
   "metadata": {},
   "outputs": [],
   "source": []
  },
  {
   "cell_type": "code",
   "execution_count": null,
   "metadata": {},
   "outputs": [],
   "source": []
  }
 ],
 "metadata": {
  "kernelspec": {
   "display_name": ".venv",
   "language": "python",
   "name": "python3"
  },
  "language_info": {
   "codemirror_mode": {
    "name": "ipython",
    "version": 3
   },
   "file_extension": ".py",
   "mimetype": "text/x-python",
   "name": "python",
   "nbconvert_exporter": "python",
   "pygments_lexer": "ipython3",
   "version": "3.10.12"
  },
  "orig_nbformat": 4
 },
 "nbformat": 4,
 "nbformat_minor": 2
}
