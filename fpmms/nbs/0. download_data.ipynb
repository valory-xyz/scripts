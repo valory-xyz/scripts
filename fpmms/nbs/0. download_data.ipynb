{
 "cells": [
  {
   "cell_type": "markdown",
   "metadata": {},
   "source": [
    "Downloads the required data for running notebooks in this folder"
   ]
  },
  {
   "cell_type": "code",
   "execution_count": 2,
   "metadata": {},
   "outputs": [],
   "source": [
    "import os\n",
    "from huggingface_hub import hf_hub_download"
   ]
  },
  {
   "cell_type": "code",
   "execution_count": 7,
   "metadata": {},
   "outputs": [
    {
     "name": "stderr",
     "output_type": "stream",
     "text": [
      "dataset.csv: 100%|██████████| 196M/196M [00:10<00:00, 17.9MB/s] \n",
      "tools.csv: 100%|██████████| 225M/225M [00:10<00:00, 21.3MB/s] \n",
      "delivers.csv: 100%|██████████| 195M/195M [00:29<00:00, 6.66MB/s] \n",
      "fpmms.csv: 100%|██████████| 227k/227k [00:00<00:00, 448kB/s]\n",
      "requests.csv: 100%|██████████| 47.5M/47.5M [00:02<00:00, 21.3MB/s]\n"
     ]
    }
   ],
   "source": [
    "repo_id = \"valory/prediction_market_data\"\n",
    "output_dir = \"./data\"\n",
    "\n",
    "if not os.path.exists(output_dir):\n",
    "    os.makedirs(output_dir)\n",
    "\n",
    "filenames = [\n",
    "    'dataset.csv',\n",
    "    'tools.csv',\n",
    "    'delivers.csv',\n",
    "    'fpmms.csv',\n",
    "    'requests.csv',\n",
    "]\n",
    "\n",
    "\n",
    "for filename in filenames:\n",
    "    hf_hub_download(\n",
    "        repo_id=repo_id,\n",
    "        filename=filename,\n",
    "        local_dir=output_dir,\n",
    "        repo_type=\"dataset\"\n",
    "    )"
   ]
  }
 ],
 "metadata": {
  "kernelspec": {
   "display_name": ".venv",
   "language": "python",
   "name": "python3"
  },
  "language_info": {
   "codemirror_mode": {
    "name": "ipython",
    "version": 3
   },
   "file_extension": ".py",
   "mimetype": "text/x-python",
   "name": "python",
   "nbconvert_exporter": "python",
   "pygments_lexer": "ipython3",
   "version": "3.10.12"
  },
  "orig_nbformat": 4
 },
 "nbformat": 4,
 "nbformat_minor": 2
}
