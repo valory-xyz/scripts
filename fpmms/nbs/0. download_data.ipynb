{
 "cells": [
  {
   "cell_type": "markdown",
   "metadata": {},
   "source": [
    "Downloads the required data for running notebooks in this folder"
   ]
  },
  {
   "cell_type": "code",
   "execution_count": 1,
   "metadata": {},
   "outputs": [
    {
     "name": "stderr",
     "output_type": "stream",
     "text": [
      "/Users/arshath/play/openautonomy/scripts/fpmms/.venv/lib/python3.10/site-packages/tqdm/auto.py:21: TqdmWarning: IProgress not found. Please update jupyter and ipywidgets. See https://ipywidgets.readthedocs.io/en/stable/user_install.html\n",
      "  from .autonotebook import tqdm as notebook_tqdm\n"
     ]
    }
   ],
   "source": [
    "import os\n",
    "from huggingface_hub import hf_hub_download"
   ]
  },
  {
   "cell_type": "markdown",
   "metadata": {},
   "source": [
    "### Downloading files"
   ]
  },
  {
   "cell_type": "code",
   "execution_count": 2,
   "metadata": {},
   "outputs": [
    {
     "name": "stderr",
     "output_type": "stream",
     "text": [
      "tools.csv: 100%|██████████| 254M/254M [00:35<00:00, 7.07MB/s] \n",
      "delivers.csv: 100%|██████████| 227M/227M [00:23<00:00, 9.83MB/s] \n",
      "requests.csv: 100%|██████████| 55.1M/55.1M [00:07<00:00, 7.35MB/s]\n",
      "all_trades_profitability.csv: 100%|██████████| 13.8M/13.8M [00:02<00:00, 4.73MB/s]\n",
      "summary_profitability.csv: 100%|██████████| 30.3k/30.3k [00:00<00:00, 35.4MB/s]\n"
     ]
    }
   ],
   "source": [
    "repo_id = \"valory/prediction_market_data\"\n",
    "output_dir = \"./data\"\n",
    "\n",
    "if not os.path.exists(output_dir):\n",
    "    os.makedirs(output_dir)\n",
    "\n",
    "filenames = [\n",
    "    'dataset.csv',\n",
    "    'tools.csv',\n",
    "    'delivers.csv',\n",
    "    'fpmms.csv',\n",
    "    'requests.csv',\n",
    "    'all_trades_profitability.csv',\n",
    "    'summary_profitability.csv',\n",
    "]\n",
    "\n",
    "\n",
    "for filename in filenames:\n",
    "    hf_hub_download(\n",
    "        repo_id=repo_id,\n",
    "        filename=filename,\n",
    "        local_dir=output_dir,\n",
    "        repo_type=\"dataset\"\n",
    "    )"
   ]
  },
  {
   "cell_type": "code",
   "execution_count": null,
   "metadata": {},
   "outputs": [],
   "source": []
  }
 ],
 "metadata": {
  "kernelspec": {
   "display_name": ".venv",
   "language": "python",
   "name": "python3"
  },
  "language_info": {
   "codemirror_mode": {
    "name": "ipython",
    "version": 3
   },
   "file_extension": ".py",
   "mimetype": "text/x-python",
   "name": "python",
   "nbconvert_exporter": "python",
   "pygments_lexer": "ipython3",
   "version": "3.10.12"
  },
  "orig_nbformat": 4
 },
 "nbformat": 4,
 "nbformat_minor": 2
}
