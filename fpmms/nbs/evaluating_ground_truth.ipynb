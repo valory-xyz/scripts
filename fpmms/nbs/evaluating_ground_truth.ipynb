{
 "cells": [
  {
   "cell_type": "markdown",
   "metadata": {},
   "source": [
    "TLDR:\n",
    "- in this notebook, we evaluate the accuracy of llm-based market resolution\n",
    "- we collected all the markets after 31-12-2023\n",
    "- manually answered using perplexity.ai and google search about 100+ questions\n",
    "- the results shows llm-based market resolution isn't very accurate (accuracy 30%)"
   ]
  },
  {
   "cell_type": "code",
   "execution_count": null,
   "metadata": {},
   "outputs": [],
   "source": [
    "import requests\n",
    "import pandas as pd\n",
    "from string import  Template\n",
    "from sklearn.metrics import confusion_matrix\n",
    "import seaborn as sns\n",
    "import matplotlib.pyplot as plt\n",
    "\n",
    "from ipywidgets import widgets, Button, VBox, HBox, Label\n",
    "from IPython.display import display"
   ]
  },
  {
   "cell_type": "markdown",
   "metadata": {},
   "source": [
    "### Collecting fpmm market data"
   ]
  },
  {
   "cell_type": "code",
   "execution_count": 2,
   "metadata": {},
   "outputs": [],
   "source": [
    "INVALID_ANSWER = \"0xffffffffffffffffffffffffffffffffffffffffffffffffffffffffffffffff\"\n",
    "YES_ANSWER = \"0x0000000000000000000000000000000000000000000000000000000000000000\"\n",
    "NO_ANSWER = \"0x0000000000000000000000000000000000000000000000000000000000000001\"\n",
    "URL = \"https://api.thegraph.com/subgraphs/name/protofire/omen-xdai\"\n",
    "CREATOR = \"0x89c5cc945dd550BcFfb72Fe42BfF002429F46Fec\"\n",
    "BATCH_SIZE = 1000\n",
    "\n",
    "FPMMS_QUERY = Template(\n",
    "    \"\"\"\n",
    "    {\n",
    "      fixedProductMarketMakers(\n",
    "        where: {\n",
    "          creator: \"${creator}\",\n",
    "          id_gt: \"${fpmm_id}\",\n",
    "          isPendingArbitration: false\n",
    "        },\n",
    "        orderBy: id,\n",
    "        first: ${first}\n",
    "      ){\n",
    "        id\n",
    "        currentAnswer\n",
    "        question {\n",
    "          outcomes\n",
    "        }\n",
    "        title\n",
    "        creationTimestamp\n",
    "      }\n",
    "    }\n",
    "    \"\"\"\n",
    ")\n",
    "\n",
    "def fetch_data():\n",
    "    fpmm_id = 0\n",
    "    markets = []\n",
    "    while True:\n",
    "        query = FPMMS_QUERY.substitute(creator=CREATOR, fpmm_id=fpmm_id, first=BATCH_SIZE)\n",
    "        data = requests.post(URL, json={'query': query}).json()\n",
    "        fpmm_data = data['data']['fixedProductMarketMakers']\n",
    "        if not fpmm_data:\n",
    "            break\n",
    "        markets.extend(fpmm_data)\n",
    "        fpmm_id = fpmm_data[-1]['id']\n",
    "    return markets"
   ]
  },
  {
   "cell_type": "code",
   "execution_count": 3,
   "metadata": {},
   "outputs": [
    {
     "name": "stdout",
     "output_type": "stream",
     "text": [
      "(2184, 5)\n",
      "(564, 6)\n",
      "(479, 6)\n"
     ]
    }
   ],
   "source": [
    "# fetch the data\n",
    "markets = fetch_data()\n",
    "\n",
    "# convert the data to a dataframe\n",
    "df = pd.DataFrame(markets)\n",
    "print(df.shape)\n",
    "\n",
    "# convert the timestamp to datetime\n",
    "df['datetime'] = pd.to_datetime(df['creationTimestamp'], unit='s')\n",
    "\n",
    "# select only the rows in 2024\n",
    "df = df[df['datetime'].dt.year == 2024].reset_index(drop=True)\n",
    "print(df.shape)\n",
    "\n",
    "# remove currentAnswer == None\n",
    "df = df[df['currentAnswer'].notna()].reset_index(drop=True)\n",
    "print(df.shape)"
   ]
  },
  {
   "cell_type": "code",
   "execution_count": 4,
   "metadata": {},
   "outputs": [
    {
     "data": {
      "text/plain": [
       " 0    362\n",
       " 1    116\n",
       "-1      1\n",
       "Name: currentAnswer, dtype: int64"
      ]
     },
     "execution_count": 4,
     "metadata": {},
     "output_type": "execute_result"
    }
   ],
   "source": [
    "df['currentAnswer'].replace(INVALID_ANSWER, -1, inplace=True)\n",
    "df['currentAnswer'].replace(YES_ANSWER, 0, inplace=True)\n",
    "df['currentAnswer'].replace(NO_ANSWER, 1, inplace=True)\n",
    "\n",
    "df['currentAnswer'].value_counts()"
   ]
  },
  {
   "cell_type": "code",
   "execution_count": 5,
   "metadata": {},
   "outputs": [],
   "source": [
    "def current_answer_to_answer(row):\n",
    "    if row['currentAnswer'] == -1:\n",
    "        return 'invalid'\n",
    "    elif row['currentAnswer'] == 0:\n",
    "        return 'yes'\n",
    "    elif row['currentAnswer'] == 1:\n",
    "        return 'no'\n",
    "    else:\n",
    "        return 'unknown'\n",
    "    \n",
    "df['answer'] = df.apply(current_answer_to_answer, axis=1)"
   ]
  },
  {
   "cell_type": "code",
   "execution_count": 6,
   "metadata": {},
   "outputs": [],
   "source": [
    "class EnhancedDataFrameRowWidget:\n",
    "    def __init__(self, dataframe):\n",
    "        self.dataframe = dataframe\n",
    "        self.current_index = 0  # Start with the first row\n",
    "        self.init_ui()\n",
    "        \n",
    "    def init_ui(self):\n",
    "        # Display area for the DataFrame row\n",
    "        self.row_display = VBox([])\n",
    "        \n",
    "        # Next and Previous buttons for navigation\n",
    "        self.next_button = Button(description=\"Next\", button_style='primary')\n",
    "        self.prev_button = Button(description=\"Previous\", button_style='primary')\n",
    "        \n",
    "        # Event handlers for buttons\n",
    "        self.next_button.on_click(self.next_row)\n",
    "        self.prev_button.on_click(self.prev_row)\n",
    "        \n",
    "        # Dropdown for human_answer\n",
    "        self.human_answer_dropdown = widgets.Dropdown(\n",
    "            options=['yes', 'no', 'invalid'],\n",
    "            value=None,\n",
    "            description='Human Answer:',\n",
    "            disabled=False,\n",
    "        )\n",
    "        \n",
    "        # Confirm button to update the 'human_answer'\n",
    "        self.confirm_button = Button(description=\"Confirm\", button_style='success')\n",
    "        self.confirm_button.on_click(self.update_human_answer)\n",
    "        \n",
    "        # Organizing the layout\n",
    "        navigation_controls = HBox([self.prev_button, self.next_button])\n",
    "        self.controls = VBox([navigation_controls, self.human_answer_dropdown, self.confirm_button])\n",
    "        \n",
    "        # Main widget box\n",
    "        self.box = VBox([self.row_display, self.controls])\n",
    "        display(self.box)\n",
    "        \n",
    "        # Initialize the display with the first row\n",
    "        self.update_display()\n",
    "        \n",
    "    def update_display(self):\n",
    "        # Update displayed row information\n",
    "        self.row_display.children = [\n",
    "            Label(f'{key}: {value}') for key, value in self.dataframe.iloc[self.current_index].items()\n",
    "        ]\n",
    "        # Reset human_answer_dropdown to None for new row\n",
    "        self.human_answer_dropdown.value = None\n",
    "        \n",
    "    def next_row(self, b):\n",
    "        # Move to the next row if not at the end\n",
    "        if self.current_index < len(self.dataframe) - 1:\n",
    "            self.current_index += 1\n",
    "            self.update_display()\n",
    "            \n",
    "    def prev_row(self, b):\n",
    "        # Move to the previous row if not at the beginning\n",
    "        if self.current_index > 0:\n",
    "            self.current_index -= 1\n",
    "            self.update_display()\n",
    "            \n",
    "    def update_human_answer(self, b):\n",
    "        # Update the dataframe with the human_answer\n",
    "        self.dataframe.at[self.current_index, 'human_answer'] = self.human_answer_dropdown.value\n",
    "        print(f\"Human answer for row {self.current_index} updated to: {self.dataframe.at[self.current_index, 'human_answer']}\")\n"
   ]
  },
  {
   "cell_type": "code",
   "execution_count": 7,
   "metadata": {},
   "outputs": [
    {
     "data": {
      "application/vnd.jupyter.widget-view+json": {
       "model_id": "eb10878f031d41ac8b9dfe21c7d23ee6",
       "version_major": 2,
       "version_minor": 0
      },
      "text/plain": [
       "VBox(children=(VBox(), VBox(children=(HBox(children=(Button(button_style='primary', description='Previous', st…"
      ]
     },
     "metadata": {},
     "output_type": "display_data"
    },
    {
     "name": "stdout",
     "output_type": "stream",
     "text": [
      "Human answer for row 0 updated to: yes\n",
      "Human answer for row 1 updated to: yes\n",
      "Human answer for row 2 updated to: no\n",
      "Human answer for row 3 updated to: yes\n",
      "Human answer for row 4 updated to: no\n",
      "Human answer for row 5 updated to: no\n",
      "Human answer for row 6 updated to: no\n",
      "Human answer for row 7 updated to: yes\n",
      "Human answer for row 8 updated to: yes\n",
      "Human answer for row 9 updated to: yes\n",
      "Human answer for row 10 updated to: yes\n",
      "Human answer for row 11 updated to: yes\n",
      "Human answer for row 12 updated to: yes\n",
      "Human answer for row 13 updated to: no\n",
      "Human answer for row 14 updated to: yes\n",
      "Human answer for row 15 updated to: yes\n",
      "Human answer for row 16 updated to: no\n",
      "Human answer for row 17 updated to: no\n",
      "Human answer for row 19 updated to: no\n",
      "Human answer for row 20 updated to: no\n",
      "Human answer for row 21 updated to: no\n",
      "Human answer for row 22 updated to: no\n",
      "Human answer for row 23 updated to: yes\n",
      "Human answer for row 24 updated to: no\n",
      "Human answer for row 25 updated to: yes\n",
      "Human answer for row 26 updated to: no\n",
      "Human answer for row 27 updated to: yes\n",
      "Human answer for row 28 updated to: yes\n",
      "Human answer for row 29 updated to: yes\n",
      "Human answer for row 30 updated to: no\n",
      "Human answer for row 31 updated to: yes\n",
      "Human answer for row 32 updated to: no\n",
      "Human answer for row 33 updated to: no\n",
      "Human answer for row 34 updated to: no\n",
      "Human answer for row 35 updated to: no\n",
      "Human answer for row 36 updated to: yes\n",
      "Human answer for row 37 updated to: yes\n",
      "Human answer for row 38 updated to: no\n",
      "Human answer for row 39 updated to: yes\n",
      "Human answer for row 40 updated to: no\n",
      "Human answer for row 41 updated to: no\n",
      "Human answer for row 42 updated to: invalid\n",
      "Human answer for row 43 updated to: no\n",
      "Human answer for row 44 updated to: no\n",
      "Human answer for row 45 updated to: no\n",
      "Human answer for row 46 updated to: no\n",
      "Human answer for row 47 updated to: yes\n",
      "Human answer for row 48 updated to: invalid\n",
      "Human answer for row 49 updated to: yes\n",
      "Human answer for row 50 updated to: no\n",
      "Human answer for row 51 updated to: yes\n",
      "Human answer for row 52 updated to: no\n",
      "Human answer for row 53 updated to: no\n",
      "Human answer for row 54 updated to: no\n",
      "Human answer for row 55 updated to: yes\n",
      "Human answer for row 56 updated to: yes\n",
      "Human answer for row 57 updated to: no\n",
      "Human answer for row 58 updated to: no\n",
      "Human answer for row 60 updated to: yes\n",
      "Human answer for row 61 updated to: no\n",
      "Human answer for row 61 updated to: no\n",
      "Human answer for row 62 updated to: yes\n",
      "Human answer for row 63 updated to: yes\n",
      "Human answer for row 64 updated to: yes\n",
      "Human answer for row 65 updated to: no\n",
      "Human answer for row 66 updated to: invalid\n",
      "Human answer for row 67 updated to: no\n",
      "Human answer for row 68 updated to: no\n",
      "Human answer for row 69 updated to: no\n",
      "Human answer for row 70 updated to: no\n",
      "Human answer for row 71 updated to: yes\n",
      "Human answer for row 72 updated to: no\n",
      "Human answer for row 73 updated to: yes\n",
      "Human answer for row 74 updated to: no\n",
      "Human answer for row 75 updated to: invalid\n",
      "Human answer for row 76 updated to: invalid\n",
      "Human answer for row 77 updated to: no\n",
      "Human answer for row 78 updated to: yes\n",
      "Human answer for row 79 updated to: no\n",
      "Human answer for row 80 updated to: yes\n",
      "Human answer for row 81 updated to: no\n",
      "Human answer for row 81 updated to: no\n",
      "Human answer for row 82 updated to: yes\n",
      "Human answer for row 83 updated to: no\n",
      "Human answer for row 84 updated to: no\n",
      "Human answer for row 85 updated to: yes\n",
      "Human answer for row 86 updated to: yes\n",
      "Human answer for row 87 updated to: no\n",
      "Human answer for row 88 updated to: no\n",
      "Human answer for row 89 updated to: yes\n",
      "Human answer for row 90 updated to: no\n",
      "Human answer for row 91 updated to: no\n",
      "Human answer for row 92 updated to: no\n",
      "Human answer for row 93 updated to: no\n",
      "Human answer for row 94 updated to: no\n",
      "Human answer for row 95 updated to: no\n",
      "Human answer for row 96 updated to: yes\n",
      "Human answer for row 97 updated to: no\n",
      "Human answer for row 98 updated to: invalid\n",
      "Human answer for row 99 updated to: invalid\n",
      "Human answer for row 100 updated to: no\n",
      "Human answer for row 101 updated to: no\n",
      "Human answer for row 102 updated to: yes\n",
      "Human answer for row 103 updated to: invalid\n",
      "Human answer for row 104 updated to: no\n",
      "Human answer for row 105 updated to: no\n",
      "Human answer for row 106 updated to: no\n",
      "Human answer for row 107 updated to: no\n",
      "Human answer for row 108 updated to: no\n",
      "Human answer for row 109 updated to: yes\n",
      "Human answer for row 110 updated to: no\n",
      "Human answer for row 111 updated to: invalid\n",
      "Human answer for row 112 updated to: yes\n",
      "Human answer for row 113 updated to: no\n",
      "Human answer for row 114 updated to: no\n",
      "Human answer for row 115 updated to: no\n",
      "Human answer for row 116 updated to: no\n",
      "Human answer for row 117 updated to: yes\n",
      "Human answer for row 118 updated to: no\n",
      "Human answer for row 119 updated to: yes\n",
      "Human answer for row 120 updated to: yes\n"
     ]
    }
   ],
   "source": [
    "# data_row_widget = EnhancedDataFrameRowWidget(df)"
   ]
  },
  {
   "cell_type": "code",
   "execution_count": 20,
   "metadata": {},
   "outputs": [],
   "source": [
    "df.to_csv(\"../gt_eval.csv\", index=False)"
   ]
  },
  {
   "cell_type": "markdown",
   "metadata": {},
   "source": [
    "### Evaluating the data"
   ]
  },
  {
   "cell_type": "code",
   "execution_count": 4,
   "metadata": {},
   "outputs": [],
   "source": [
    "df = pd.read_csv(\"../gt_eval.csv\")"
   ]
  },
  {
   "cell_type": "code",
   "execution_count": 5,
   "metadata": {},
   "outputs": [
    {
     "data": {
      "text/plain": [
       "no         66\n",
       "yes        44\n",
       "invalid     9\n",
       "Name: human_answer, dtype: int64"
      ]
     },
     "execution_count": 5,
     "metadata": {},
     "output_type": "execute_result"
    }
   ],
   "source": [
    "df['human_answer'].value_counts()"
   ]
  },
  {
   "cell_type": "code",
   "execution_count": 7,
   "metadata": {},
   "outputs": [
    {
     "name": "stdout",
     "output_type": "stream",
     "text": [
      "yes        362\n",
      "no         116\n",
      "invalid      1\n",
      "Name: answer, dtype: int64\n",
      "\n",
      "yes        0.755741\n",
      "no         0.242171\n",
      "invalid    0.002088\n",
      "Name: answer, dtype: float64\n"
     ]
    }
   ],
   "source": [
    "# value count of mech answer\n",
    "# there is a tendency for the model to predict 'yes' more often\n",
    "print(df['answer'].value_counts())\n",
    "print()\n",
    "print(df['answer'].value_counts() / len(df))\n"
   ]
  },
  {
   "cell_type": "code",
   "execution_count": 8,
   "metadata": {},
   "outputs": [],
   "source": [
    "# selct only the rows with human_answer\n",
    "df_human = df[df['human_answer'].notna()].reset_index(drop=True)\n",
    "\n",
    "# remove invalid answers\n",
    "df_human = df_human[df_human['human_answer'] != 'invalid'].reset_index(drop=True)"
   ]
  },
  {
   "cell_type": "code",
   "execution_count": 9,
   "metadata": {},
   "outputs": [
    {
     "name": "stdout",
     "output_type": "stream",
     "text": [
      "yes    80\n",
      "no     30\n",
      "Name: answer, dtype: int64\n",
      "\n",
      "yes    0.727273\n",
      "no     0.272727\n",
      "Name: answer, dtype: float64\n"
     ]
    }
   ],
   "source": [
    "print(df_human['answer'].value_counts())\n",
    "print()\n",
    "print(df_human['answer'].value_counts() / len(df_human))"
   ]
  },
  {
   "cell_type": "code",
   "execution_count": 44,
   "metadata": {},
   "outputs": [
    {
     "name": "stdout",
     "output_type": "stream",
     "text": [
      "no     66\n",
      "yes    44\n",
      "Name: human_answer, dtype: int64\n",
      "\n",
      "no     0.6\n",
      "yes    0.4\n",
      "Name: human_answer, dtype: float64\n"
     ]
    }
   ],
   "source": [
    "# value count of human answer\n",
    "print(df_human['human_answer'].value_counts())\n",
    "print()\n",
    "print(df_human['human_answer'].value_counts() / len(df_human))"
   ]
  },
  {
   "cell_type": "code",
   "execution_count": 11,
   "metadata": {},
   "outputs": [],
   "source": [
    "preds = df_human['answer'].values\n",
    "labels = df_human['human_answer'].values"
   ]
  },
  {
   "cell_type": "code",
   "execution_count": 13,
   "metadata": {},
   "outputs": [
    {
     "data": {
      "text/plain": [
       "Text(50.722222222222214, 0.5, 'True')"
      ]
     },
     "execution_count": 13,
     "metadata": {},
     "output_type": "execute_result"
    },
    {
     "data": {
      "image/png": "[encoded data removed]",
      "text/plain": [
       "<Figure size 640x480 with 2 Axes>"
      ]
     },
     "metadata": {},
     "output_type": "display_data"
    }
   ],
   "source": [
    "# confusion matrix for human answer vs mech answer. sklearn is used to calculate the confusion matrix\n",
    "# the results shows poor performance of the model\n",
    "cm = confusion_matrix(labels, preds, labels=['yes', 'no'])\n",
    "cm = cm\n",
    "sns.heatmap(cm, annot=True, fmt=\".2f\", cmap='Blues', xticklabels=['yes', 'no'], yticklabels=['yes', 'no'])\n",
    "plt.xlabel('Predicted')\n",
    "plt.ylabel('True')"
   ]
  },
  {
   "cell_type": "code",
   "execution_count": 14,
   "metadata": {},
   "outputs": [
    {
     "name": "stdout",
     "output_type": "stream",
     "text": [
      "Accuracy: 0.29\n"
     ]
    }
   ],
   "source": [
    "# accuracy of the model is poor at only 0.29\n",
    "accuracy = (cm[0, 0] + cm[1, 1]) / cm.sum()\n",
    "print(f\"Accuracy: {accuracy:.2f}\")"
   ]
  },
  {
   "cell_type": "code",
   "execution_count": null,
   "metadata": {},
   "outputs": [],
   "source": [
    "# what is the precision and recall for the 'no' class? \n",
    "# Precision is the number of true positives divided by the number of true positives plus the number of false positives. \n",
    "# Recall is the number of true positives divided by the number of true positives plus the number of false negatives."
   ]
  },
  {
   "cell_type": "code",
   "execution_count": 16,
   "metadata": {},
   "outputs": [
    {
     "name": "stdout",
     "output_type": "stream",
     "text": [
      "Precision: 0.29\n"
     ]
    }
   ],
   "source": [
    "# Low precision and recall\n",
    "precision = cm[0,0] / (cm[0,0] + cm[1,0])\n",
    "print(f\"Precision: {precision:.2f}\")"
   ]
  },
  {
   "cell_type": "code",
   "execution_count": 17,
   "metadata": {},
   "outputs": [
    {
     "name": "stdout",
     "output_type": "stream",
     "text": [
      "Recall: 0.52\n"
     ]
    }
   ],
   "source": [
    "recall = cm[0,0] / (cm[0,0] + cm[0,1])\n",
    "print(f\"Recall: {recall:.2f}\")"
   ]
  },
  {
   "cell_type": "code",
   "execution_count": 18,
   "metadata": {},
   "outputs": [
    {
     "name": "stdout",
     "output_type": "stream",
     "text": [
      "F1 Score: 0.37\n"
     ]
    }
   ],
   "source": [
    "f1_score = 2 * (precision * recall) / (precision + recall)\n",
    "print(f\"F1 Score: {f1_score:.2f}\")"
   ]
  },
  {
   "cell_type": "code",
   "execution_count": null,
   "metadata": {},
   "outputs": [],
   "source": []
  }
 ],
 "metadata": {
  "kernelspec": {
   "display_name": ".venv",
   "language": "python",
   "name": "python3"
  },
  "language_info": {
   "codemirror_mode": {
    "name": "ipython",
    "version": 3
   },
   "file_extension": ".py",
   "mimetype": "text/x-python",
   "name": "python",
   "nbconvert_exporter": "python",
   "pygments_lexer": "ipython3",
   "version": "3.10.12"
  },
  "orig_nbformat": 4
 },
 "nbformat": 4,
 "nbformat_minor": 2
}
