{
 "cells": [
  {
   "cell_type": "markdown",
   "metadata": {},
   "source": [
    "This notebook explores: \n",
    "* The relative usage of each tool  \n",
    "* The overall accuracy of each tool\n",
    "* The bias of each tool towards yes/no answers \n",
    "* The relationship between confidence and accuracy for each tool\n",
    "* The diversity of tools and prompts used for different questions\n",
    "\n",
    "TLDR: \n",
    "1. Some tools have been used a lot more than others. Also the settings have been changing. This makes analysis of the performance of the different tools more difficult. Creating the benchmark will help.\n",
    "2. Some tools are biased towards one answer over another (e.g. answer yes twice as often). This is surpising since we would have expected a 50:50 split.\n",
    "3. There's no discernible trend between accuracy and confidence. This is perhaps evidence that the output format (based on confidence) we are asking the tools for isn't working well. \n",
    "4. (To show for script data but true for autocast) Some tools output equal probability of yes and no more than others (especially Claude). This means that they make less bets. Perhaps this helps to maintain higher accuracy (while reducing recall)."
   ]
  },
  {
   "cell_type": "markdown",
   "metadata": {},
   "source": [
    "### imports"
   ]
  },
  {
   "cell_type": "code",
   "execution_count": 1,
   "metadata": {},
   "outputs": [],
   "source": [
    "import pandas as pd\n",
    "import matplotlib.pyplot as plt\n",
    "pd.set_option(\"display.precision\", 2)\n",
    "pd.set_option('display.max_columns', None)\n",
    "\n",
    "plt.style.use('ggplot')"
   ]
  },
  {
   "cell_type": "markdown",
   "metadata": {},
   "source": [
    "### Functions"
   ]
  },
  {
   "cell_type": "code",
   "execution_count": 2,
   "metadata": {},
   "outputs": [],
   "source": [
    "def accuracy(data):\n",
    "    correct_answers_mask = data[\"currentAnswer\"] == data[\"vote\"]\n",
    "    n_answers = correct_answers_mask.count()\n",
    "    n_answers_success = correct_answers_mask.sum()\n",
    "\n",
    "    if n_answers == 0:\n",
    "        accuracy = None\n",
    "    elif n_answers_success == 0:\n",
    "        accuracy = 0\n",
    "    else:\n",
    "        accuracy = n_answers_success/n_answers * 100\n",
    "\n",
    "    return pd.Series({\"n_correct\": n_answers_success, \"n_pred\": n_answers, \"accuracy\": accuracy})\n",
    "\n",
    "\n",
    "def acc_per_tool(group, col: str, conf: float):\n",
    "    return group.apply(lambda x: accuracy(x[x[col] == conf]))\n",
    "\n",
    "\n",
    "def gen_stats(df, group, col: str):\n",
    "    stats = {f\"{col}_{prob}\" : acc_per_tool(group, col, prob) for prob in sorted(df[col].unique())}\n",
    "    stats[\"total\"] = group.apply(accuracy)\n",
    "    return pd.concat(stats.values(), axis=1, keys=stats.keys())"
   ]
  },
  {
   "cell_type": "markdown",
   "metadata": {},
   "source": [
    "### load data"
   ]
  },
  {
   "cell_type": "code",
   "execution_count": 8,
   "metadata": {},
   "outputs": [
    {
     "name": "stdout",
     "output_type": "stream",
     "text": [
      "Full dataset shape: (33204, 15)\n"
     ]
    },
    {
     "ename": "KeyError",
     "evalue": "'prompt_request'",
     "output_type": "error",
     "traceback": [
      "\u001b[0;31m---------------------------------------------------------------------------\u001b[0m",
      "\u001b[0;31mKeyError\u001b[0m                                  Traceback (most recent call last)",
      "\u001b[0;32m~/.local/lib/python3.10/site-packages/pandas/core/indexes/base.py\u001b[0m in \u001b[0;36mget_loc\u001b[0;34m(self, key, method, tolerance)\u001b[0m\n\u001b[1;32m   3801\u001b[0m             \u001b[0;32mtry\u001b[0m\u001b[0;34m:\u001b[0m\u001b[0;34m\u001b[0m\u001b[0;34m\u001b[0m\u001b[0m\n\u001b[0;32m-> 3802\u001b[0;31m                 \u001b[0;32mreturn\u001b[0m \u001b[0mself\u001b[0m\u001b[0;34m.\u001b[0m\u001b[0m_engine\u001b[0m\u001b[0;34m.\u001b[0m\u001b[0mget_loc\u001b[0m\u001b[0;34m(\u001b[0m\u001b[0mcasted_key\u001b[0m\u001b[0;34m)\u001b[0m\u001b[0;34m\u001b[0m\u001b[0;34m\u001b[0m\u001b[0m\n\u001b[0m\u001b[1;32m   3803\u001b[0m             \u001b[0;32mexcept\u001b[0m \u001b[0mKeyError\u001b[0m \u001b[0;32mas\u001b[0m \u001b[0merr\u001b[0m\u001b[0;34m:\u001b[0m\u001b[0;34m\u001b[0m\u001b[0;34m\u001b[0m\u001b[0m\n",
      "\u001b[0;32m~/.local/lib/python3.10/site-packages/pandas/_libs/index.pyx\u001b[0m in \u001b[0;36mpandas._libs.index.IndexEngine.get_loc\u001b[0;34m()\u001b[0m\n",
      "\u001b[0;32m~/.local/lib/python3.10/site-packages/pandas/_libs/index.pyx\u001b[0m in \u001b[0;36mpandas._libs.index.IndexEngine.get_loc\u001b[0;34m()\u001b[0m\n",
      "\u001b[0;32mpandas/_libs/hashtable_class_helper.pxi\u001b[0m in \u001b[0;36mpandas._libs.hashtable.PyObjectHashTable.get_item\u001b[0;34m()\u001b[0m\n",
      "\u001b[0;32mpandas/_libs/hashtable_class_helper.pxi\u001b[0m in \u001b[0;36mpandas._libs.hashtable.PyObjectHashTable.get_item\u001b[0;34m()\u001b[0m\n",
      "\u001b[0;31mKeyError\u001b[0m: 'prompt_request'",
      "\nThe above exception was the direct cause of the following exception:\n",
      "\u001b[0;31mKeyError\u001b[0m                                  Traceback (most recent call last)",
      "\u001b[0;32m/tmp/ipykernel_686521/534006018.py\u001b[0m in \u001b[0;36m<module>\u001b[0;34m\u001b[0m\n\u001b[1;32m      8\u001b[0m \u001b[0mstr_cols\u001b[0m \u001b[0;34m=\u001b[0m \u001b[0;34m(\u001b[0m\u001b[0;34m\"id\"\u001b[0m\u001b[0;34m,\u001b[0m \u001b[0;34m\"currentAnswer\"\u001b[0m\u001b[0;34m,\u001b[0m \u001b[0;34m\"title\"\u001b[0m\u001b[0;34m,\u001b[0m \u001b[0;34m\"request_id\"\u001b[0m\u001b[0;34m,\u001b[0m \u001b[0;34m\"prompt_request\"\u001b[0m\u001b[0;34m,\u001b[0m \u001b[0;34m\"prompt_response\"\u001b[0m\u001b[0;34m,\u001b[0m \u001b[0;34m\"tool\"\u001b[0m\u001b[0;34m,\u001b[0m \u001b[0;34m\"nonce\"\u001b[0m\u001b[0;34m,\u001b[0m \u001b[0;34m\"vote\"\u001b[0m\u001b[0;34m)\u001b[0m\u001b[0;34m\u001b[0m\u001b[0;34m\u001b[0m\u001b[0m\n\u001b[1;32m      9\u001b[0m \u001b[0;32mfor\u001b[0m \u001b[0mcol\u001b[0m \u001b[0;32min\u001b[0m \u001b[0mstr_cols\u001b[0m\u001b[0;34m:\u001b[0m\u001b[0;34m\u001b[0m\u001b[0;34m\u001b[0m\u001b[0m\n\u001b[0;32m---> 10\u001b[0;31m     \u001b[0mdataset\u001b[0m\u001b[0;34m[\u001b[0m\u001b[0mcol\u001b[0m\u001b[0;34m]\u001b[0m \u001b[0;34m=\u001b[0m \u001b[0mdataset\u001b[0m\u001b[0;34m[\u001b[0m\u001b[0mcol\u001b[0m\u001b[0;34m]\u001b[0m\u001b[0;34m.\u001b[0m\u001b[0mastype\u001b[0m\u001b[0;34m(\u001b[0m\u001b[0;34m\"string\"\u001b[0m\u001b[0;34m)\u001b[0m\u001b[0;34m\u001b[0m\u001b[0;34m\u001b[0m\u001b[0m\n\u001b[0m\u001b[1;32m     11\u001b[0m \u001b[0mdataset\u001b[0m\u001b[0;34m.\u001b[0m\u001b[0mhead\u001b[0m\u001b[0;34m(\u001b[0m\u001b[0;34m)\u001b[0m\u001b[0;34m\u001b[0m\u001b[0;34m\u001b[0m\u001b[0m\n",
      "\u001b[0;32m~/.local/lib/python3.10/site-packages/pandas/core/frame.py\u001b[0m in \u001b[0;36m__getitem__\u001b[0;34m(self, key)\u001b[0m\n\u001b[1;32m   3805\u001b[0m             \u001b[0;32mif\u001b[0m \u001b[0mself\u001b[0m\u001b[0;34m.\u001b[0m\u001b[0mcolumns\u001b[0m\u001b[0;34m.\u001b[0m\u001b[0mnlevels\u001b[0m \u001b[0;34m>\u001b[0m \u001b[0;36m1\u001b[0m\u001b[0;34m:\u001b[0m\u001b[0;34m\u001b[0m\u001b[0;34m\u001b[0m\u001b[0m\n\u001b[1;32m   3806\u001b[0m                 \u001b[0;32mreturn\u001b[0m \u001b[0mself\u001b[0m\u001b[0;34m.\u001b[0m\u001b[0m_getitem_multilevel\u001b[0m\u001b[0;34m(\u001b[0m\u001b[0mkey\u001b[0m\u001b[0;34m)\u001b[0m\u001b[0;34m\u001b[0m\u001b[0;34m\u001b[0m\u001b[0m\n\u001b[0;32m-> 3807\u001b[0;31m             \u001b[0mindexer\u001b[0m \u001b[0;34m=\u001b[0m \u001b[0mself\u001b[0m\u001b[0;34m.\u001b[0m\u001b[0mcolumns\u001b[0m\u001b[0;34m.\u001b[0m\u001b[0mget_loc\u001b[0m\u001b[0;34m(\u001b[0m\u001b[0mkey\u001b[0m\u001b[0;34m)\u001b[0m\u001b[0;34m\u001b[0m\u001b[0;34m\u001b[0m\u001b[0m\n\u001b[0m\u001b[1;32m   3808\u001b[0m             \u001b[0;32mif\u001b[0m \u001b[0mis_integer\u001b[0m\u001b[0;34m(\u001b[0m\u001b[0mindexer\u001b[0m\u001b[0;34m)\u001b[0m\u001b[0;34m:\u001b[0m\u001b[0;34m\u001b[0m\u001b[0;34m\u001b[0m\u001b[0m\n\u001b[1;32m   3809\u001b[0m                 \u001b[0mindexer\u001b[0m \u001b[0;34m=\u001b[0m \u001b[0;34m[\u001b[0m\u001b[0mindexer\u001b[0m\u001b[0;34m]\u001b[0m\u001b[0;34m\u001b[0m\u001b[0;34m\u001b[0m\u001b[0m\n",
      "\u001b[0;32m~/.local/lib/python3.10/site-packages/pandas/core/indexes/base.py\u001b[0m in \u001b[0;36mget_loc\u001b[0;34m(self, key, method, tolerance)\u001b[0m\n\u001b[1;32m   3802\u001b[0m                 \u001b[0;32mreturn\u001b[0m \u001b[0mself\u001b[0m\u001b[0;34m.\u001b[0m\u001b[0m_engine\u001b[0m\u001b[0;34m.\u001b[0m\u001b[0mget_loc\u001b[0m\u001b[0;34m(\u001b[0m\u001b[0mcasted_key\u001b[0m\u001b[0;34m)\u001b[0m\u001b[0;34m\u001b[0m\u001b[0;34m\u001b[0m\u001b[0m\n\u001b[1;32m   3803\u001b[0m             \u001b[0;32mexcept\u001b[0m \u001b[0mKeyError\u001b[0m \u001b[0;32mas\u001b[0m \u001b[0merr\u001b[0m\u001b[0;34m:\u001b[0m\u001b[0;34m\u001b[0m\u001b[0;34m\u001b[0m\u001b[0m\n\u001b[0;32m-> 3804\u001b[0;31m                 \u001b[0;32mraise\u001b[0m \u001b[0mKeyError\u001b[0m\u001b[0;34m(\u001b[0m\u001b[0mkey\u001b[0m\u001b[0;34m)\u001b[0m \u001b[0;32mfrom\u001b[0m \u001b[0merr\u001b[0m\u001b[0;34m\u001b[0m\u001b[0;34m\u001b[0m\u001b[0m\n\u001b[0m\u001b[1;32m   3805\u001b[0m             \u001b[0;32mexcept\u001b[0m \u001b[0mTypeError\u001b[0m\u001b[0;34m:\u001b[0m\u001b[0;34m\u001b[0m\u001b[0;34m\u001b[0m\u001b[0m\n\u001b[1;32m   3806\u001b[0m                 \u001b[0;31m# If we have a listlike key, _check_indexing_error will raise\u001b[0m\u001b[0;34m\u001b[0m\u001b[0;34m\u001b[0m\u001b[0m\n",
      "\u001b[0;31mKeyError\u001b[0m: 'prompt_request'"
     ]
    }
   ],
   "source": [
    "dataset = pd.read_csv(\"./data/dataset.csv\")\n",
    "print(f\"Full dataset shape: {dataset.shape}\")\n",
    "\n",
    "# only error == False\n",
    "dataset = dataset[dataset[\"error\"] == False]\n",
    "print(f\"Dataset shape without errors: {dataset.shape}\")\n",
    "\n",
    "str_cols = (\"id\", \"currentAnswer\", \"title\", \"request_id\", \"prompt_request\", \"prompt_response\", \"tool\", \"nonce\", \"vote\")\n",
    "for col in str_cols:\n",
    "    dataset[col] = dataset[col].astype(\"string\")\n",
    "dataset.head()"
   ]
  },
  {
   "cell_type": "code",
   "execution_count": 6,
   "metadata": {},
   "outputs": [
    {
     "data": {
      "text/html": [
       "<div>\n",
       "<style scoped>\n",
       "    .dataframe tbody tr th:only-of-type {\n",
       "        vertical-align: middle;\n",
       "    }\n",
       "\n",
       "    .dataframe tbody tr th {\n",
       "        vertical-align: top;\n",
       "    }\n",
       "\n",
       "    .dataframe thead th {\n",
       "        text-align: right;\n",
       "    }\n",
       "</style>\n",
       "<table border=\"1\" class=\"dataframe\">\n",
       "  <thead>\n",
       "    <tr style=\"text-align: right;\">\n",
       "      <th></th>\n",
       "      <th>id</th>\n",
       "      <th>currentAnswer</th>\n",
       "      <th>title</th>\n",
       "      <th>request_id</th>\n",
       "      <th>request_block</th>\n",
       "      <th>prompt</th>\n",
       "      <th>tool</th>\n",
       "      <th>nonce</th>\n",
       "      <th>deliver_block</th>\n",
       "      <th>p_yes</th>\n",
       "      <th>p_no</th>\n",
       "      <th>confidence</th>\n",
       "      <th>info_utility</th>\n",
       "      <th>vote</th>\n",
       "      <th>win_probability</th>\n",
       "    </tr>\n",
       "  </thead>\n",
       "  <tbody>\n",
       "    <tr>\n",
       "      <th>0</th>\n",
       "      <td>0x0094fa304017d5c2b355790e2976f769ea600492</td>\n",
       "      <td>No</td>\n",
       "      <td>Will the Hisense U8K be considered a top-tier ...</td>\n",
       "      <td>1429730407779530824523722231071959771311408049...</td>\n",
       "      <td>29544655</td>\n",
       "      <td>With the given question \"Will the Hisense U8K ...</td>\n",
       "      <td>prediction-online</td>\n",
       "      <td>c6366b3f-eff5-4533-8dd9-d653b281b29d</td>\n",
       "      <td>29577379</td>\n",
       "      <td>0.60</td>\n",
       "      <td>0.40</td>\n",
       "      <td>0.8</td>\n",
       "      <td>0.5</td>\n",
       "      <td>Yes</td>\n",
       "      <td>0.60</td>\n",
       "    </tr>\n",
       "    <tr>\n",
       "      <th>1</th>\n",
       "      <td>0x0094fa304017d5c2b355790e2976f769ea600492</td>\n",
       "      <td>No</td>\n",
       "      <td>Will the Hisense U8K be considered a top-tier ...</td>\n",
       "      <td>1695055931594747475916883029584567955775422500...</td>\n",
       "      <td>29545478</td>\n",
       "      <td>With the given question \"Will the Hisense U8K ...</td>\n",
       "      <td>prediction-online</td>\n",
       "      <td>1eed33a5-a3f0-41c4-beae-23e9022ffe22</td>\n",
       "      <td>29576660</td>\n",
       "      <td>0.60</td>\n",
       "      <td>0.40</td>\n",
       "      <td>0.8</td>\n",
       "      <td>0.7</td>\n",
       "      <td>Yes</td>\n",
       "      <td>0.60</td>\n",
       "    </tr>\n",
       "    <tr>\n",
       "      <th>2</th>\n",
       "      <td>0x0094fa304017d5c2b355790e2976f769ea600492</td>\n",
       "      <td>No</td>\n",
       "      <td>Will the Hisense U8K be considered a top-tier ...</td>\n",
       "      <td>5972945302788386668720465960403202339977906500...</td>\n",
       "      <td>29546230</td>\n",
       "      <td>With the given question \"Will the Hisense U8K ...</td>\n",
       "      <td>prediction-online</td>\n",
       "      <td>dd376ef9-eb2c-4d9f-8a5a-cf9ae8deb0b3</td>\n",
       "      <td>29576574</td>\n",
       "      <td>0.60</td>\n",
       "      <td>0.40</td>\n",
       "      <td>0.8</td>\n",
       "      <td>0.7</td>\n",
       "      <td>Yes</td>\n",
       "      <td>0.60</td>\n",
       "    </tr>\n",
       "    <tr>\n",
       "      <th>3</th>\n",
       "      <td>0x0094fa304017d5c2b355790e2976f769ea600492</td>\n",
       "      <td>No</td>\n",
       "      <td>Will the Hisense U8K be considered a top-tier ...</td>\n",
       "      <td>1043402953919313937539182160739114840263108832...</td>\n",
       "      <td>29546982</td>\n",
       "      <td>With the given question \"Will the Hisense U8K ...</td>\n",
       "      <td>prediction-online</td>\n",
       "      <td>91096f15-5e3b-4bf1-8178-f17f1efcf639</td>\n",
       "      <td>29576448</td>\n",
       "      <td>0.70</td>\n",
       "      <td>0.30</td>\n",
       "      <td>0.8</td>\n",
       "      <td>0.6</td>\n",
       "      <td>Yes</td>\n",
       "      <td>0.70</td>\n",
       "    </tr>\n",
       "    <tr>\n",
       "      <th>4</th>\n",
       "      <td>0x0094fa304017d5c2b355790e2976f769ea600492</td>\n",
       "      <td>No</td>\n",
       "      <td>Will the Hisense U8K be considered a top-tier ...</td>\n",
       "      <td>9433232780766388309643050548812272093999565778...</td>\n",
       "      <td>29547744</td>\n",
       "      <td>With the given question \"Will the Hisense U8K ...</td>\n",
       "      <td>prediction-online</td>\n",
       "      <td>92321968-7888-4877-b33f-22fa4755fbc2</td>\n",
       "      <td>29576351</td>\n",
       "      <td>0.65</td>\n",
       "      <td>0.35</td>\n",
       "      <td>0.9</td>\n",
       "      <td>0.8</td>\n",
       "      <td>Yes</td>\n",
       "      <td>0.65</td>\n",
       "    </tr>\n",
       "    <tr>\n",
       "      <th>...</th>\n",
       "      <td>...</td>\n",
       "      <td>...</td>\n",
       "      <td>...</td>\n",
       "      <td>...</td>\n",
       "      <td>...</td>\n",
       "      <td>...</td>\n",
       "      <td>...</td>\n",
       "      <td>...</td>\n",
       "      <td>...</td>\n",
       "      <td>...</td>\n",
       "      <td>...</td>\n",
       "      <td>...</td>\n",
       "      <td>...</td>\n",
       "      <td>...</td>\n",
       "      <td>...</td>\n",
       "    </tr>\n",
       "    <tr>\n",
       "      <th>33199</th>\n",
       "      <td>0xffd6f34459ff26040e9cf1d9e4d9aaa7026a9683</td>\n",
       "      <td>No</td>\n",
       "      <td>Will YouTube's subscribe button light up whene...</td>\n",
       "      <td>4263190901304231495850761705989642389854368362...</td>\n",
       "      <td>30547221</td>\n",
       "      <td>Please take over the role of a Data Scientist ...</td>\n",
       "      <td>prediction-offline-sme</td>\n",
       "      <td>e595320f-2fe5-4054-a78a-2ec876fb18d2</td>\n",
       "      <td>30567380</td>\n",
       "      <td>0.60</td>\n",
       "      <td>0.40</td>\n",
       "      <td>0.8</td>\n",
       "      <td>0.5</td>\n",
       "      <td>Yes</td>\n",
       "      <td>0.60</td>\n",
       "    </tr>\n",
       "    <tr>\n",
       "      <th>33200</th>\n",
       "      <td>0xffd6f34459ff26040e9cf1d9e4d9aaa7026a9683</td>\n",
       "      <td>No</td>\n",
       "      <td>Will YouTube's subscribe button light up whene...</td>\n",
       "      <td>8369494795383516235624157123761657514877000913...</td>\n",
       "      <td>30547280</td>\n",
       "      <td>Please take over the role of a Data Scientist ...</td>\n",
       "      <td>prediction-offline</td>\n",
       "      <td>90b24122-766f-4311-b1a4-a63bcd3cb02f</td>\n",
       "      <td>30547290</td>\n",
       "      <td>0.80</td>\n",
       "      <td>0.20</td>\n",
       "      <td>0.9</td>\n",
       "      <td>0.5</td>\n",
       "      <td>Yes</td>\n",
       "      <td>0.80</td>\n",
       "    </tr>\n",
       "    <tr>\n",
       "      <th>33201</th>\n",
       "      <td>0xffd6f34459ff26040e9cf1d9e4d9aaa7026a9683</td>\n",
       "      <td>No</td>\n",
       "      <td>Will YouTube's subscribe button light up whene...</td>\n",
       "      <td>7918465905476728959297694493743499879185014792...</td>\n",
       "      <td>30548108</td>\n",
       "      <td>Please take over the role of a Data Scientist ...</td>\n",
       "      <td>claude-prediction-online</td>\n",
       "      <td>6e8ca36d-0035-47ad-8103-29800cf026d6</td>\n",
       "      <td>30548137</td>\n",
       "      <td>0.20</td>\n",
       "      <td>0.80</td>\n",
       "      <td>0.6</td>\n",
       "      <td>0.3</td>\n",
       "      <td>No</td>\n",
       "      <td>0.80</td>\n",
       "    </tr>\n",
       "    <tr>\n",
       "      <th>33202</th>\n",
       "      <td>0xffd6f34459ff26040e9cf1d9e4d9aaa7026a9683</td>\n",
       "      <td>No</td>\n",
       "      <td>Will YouTube's subscribe button light up whene...</td>\n",
       "      <td>7726801200361002068276204884331940960539584313...</td>\n",
       "      <td>30548848</td>\n",
       "      <td>Please take over the role of a Data Scientist ...</td>\n",
       "      <td>claude-prediction-offline</td>\n",
       "      <td>d36cc85a-52cf-4feb-9f51-6c29b5b88656</td>\n",
       "      <td>30548864</td>\n",
       "      <td>0.30</td>\n",
       "      <td>0.70</td>\n",
       "      <td>0.5</td>\n",
       "      <td>0.0</td>\n",
       "      <td>No</td>\n",
       "      <td>0.70</td>\n",
       "    </tr>\n",
       "    <tr>\n",
       "      <th>33203</th>\n",
       "      <td>0xffd6f34459ff26040e9cf1d9e4d9aaa7026a9683</td>\n",
       "      <td>No</td>\n",
       "      <td>Will YouTube's subscribe button light up whene...</td>\n",
       "      <td>9063487861033138782315173660735189843739494466...</td>\n",
       "      <td>30561205</td>\n",
       "      <td>Please take over the role of a Data Scientist ...</td>\n",
       "      <td>prediction-online</td>\n",
       "      <td>c5f754bc-01ff-4f5a-ab1b-2a8cdbca210c</td>\n",
       "      <td>30561214</td>\n",
       "      <td>0.70</td>\n",
       "      <td>0.30</td>\n",
       "      <td>0.8</td>\n",
       "      <td>0.5</td>\n",
       "      <td>Yes</td>\n",
       "      <td>0.70</td>\n",
       "    </tr>\n",
       "  </tbody>\n",
       "</table>\n",
       "<p>33204 rows × 15 columns</p>\n",
       "</div>"
      ],
      "text/plain": [
       "                                               id currentAnswer  \\\n",
       "0      0x0094fa304017d5c2b355790e2976f769ea600492            No   \n",
       "1      0x0094fa304017d5c2b355790e2976f769ea600492            No   \n",
       "2      0x0094fa304017d5c2b355790e2976f769ea600492            No   \n",
       "3      0x0094fa304017d5c2b355790e2976f769ea600492            No   \n",
       "4      0x0094fa304017d5c2b355790e2976f769ea600492            No   \n",
       "...                                           ...           ...   \n",
       "33199  0xffd6f34459ff26040e9cf1d9e4d9aaa7026a9683            No   \n",
       "33200  0xffd6f34459ff26040e9cf1d9e4d9aaa7026a9683            No   \n",
       "33201  0xffd6f34459ff26040e9cf1d9e4d9aaa7026a9683            No   \n",
       "33202  0xffd6f34459ff26040e9cf1d9e4d9aaa7026a9683            No   \n",
       "33203  0xffd6f34459ff26040e9cf1d9e4d9aaa7026a9683            No   \n",
       "\n",
       "                                                   title  \\\n",
       "0      Will the Hisense U8K be considered a top-tier ...   \n",
       "1      Will the Hisense U8K be considered a top-tier ...   \n",
       "2      Will the Hisense U8K be considered a top-tier ...   \n",
       "3      Will the Hisense U8K be considered a top-tier ...   \n",
       "4      Will the Hisense U8K be considered a top-tier ...   \n",
       "...                                                  ...   \n",
       "33199  Will YouTube's subscribe button light up whene...   \n",
       "33200  Will YouTube's subscribe button light up whene...   \n",
       "33201  Will YouTube's subscribe button light up whene...   \n",
       "33202  Will YouTube's subscribe button light up whene...   \n",
       "33203  Will YouTube's subscribe button light up whene...   \n",
       "\n",
       "                                              request_id  request_block  \\\n",
       "0      1429730407779530824523722231071959771311408049...       29544655   \n",
       "1      1695055931594747475916883029584567955775422500...       29545478   \n",
       "2      5972945302788386668720465960403202339977906500...       29546230   \n",
       "3      1043402953919313937539182160739114840263108832...       29546982   \n",
       "4      9433232780766388309643050548812272093999565778...       29547744   \n",
       "...                                                  ...            ...   \n",
       "33199  4263190901304231495850761705989642389854368362...       30547221   \n",
       "33200  8369494795383516235624157123761657514877000913...       30547280   \n",
       "33201  7918465905476728959297694493743499879185014792...       30548108   \n",
       "33202  7726801200361002068276204884331940960539584313...       30548848   \n",
       "33203  9063487861033138782315173660735189843739494466...       30561205   \n",
       "\n",
       "                                                  prompt  \\\n",
       "0      With the given question \"Will the Hisense U8K ...   \n",
       "1      With the given question \"Will the Hisense U8K ...   \n",
       "2      With the given question \"Will the Hisense U8K ...   \n",
       "3      With the given question \"Will the Hisense U8K ...   \n",
       "4      With the given question \"Will the Hisense U8K ...   \n",
       "...                                                  ...   \n",
       "33199  Please take over the role of a Data Scientist ...   \n",
       "33200  Please take over the role of a Data Scientist ...   \n",
       "33201  Please take over the role of a Data Scientist ...   \n",
       "33202  Please take over the role of a Data Scientist ...   \n",
       "33203  Please take over the role of a Data Scientist ...   \n",
       "\n",
       "                            tool                                 nonce  \\\n",
       "0              prediction-online  c6366b3f-eff5-4533-8dd9-d653b281b29d   \n",
       "1              prediction-online  1eed33a5-a3f0-41c4-beae-23e9022ffe22   \n",
       "2              prediction-online  dd376ef9-eb2c-4d9f-8a5a-cf9ae8deb0b3   \n",
       "3              prediction-online  91096f15-5e3b-4bf1-8178-f17f1efcf639   \n",
       "4              prediction-online  92321968-7888-4877-b33f-22fa4755fbc2   \n",
       "...                          ...                                   ...   \n",
       "33199     prediction-offline-sme  e595320f-2fe5-4054-a78a-2ec876fb18d2   \n",
       "33200         prediction-offline  90b24122-766f-4311-b1a4-a63bcd3cb02f   \n",
       "33201   claude-prediction-online  6e8ca36d-0035-47ad-8103-29800cf026d6   \n",
       "33202  claude-prediction-offline  d36cc85a-52cf-4feb-9f51-6c29b5b88656   \n",
       "33203          prediction-online  c5f754bc-01ff-4f5a-ab1b-2a8cdbca210c   \n",
       "\n",
       "       deliver_block  p_yes  p_no  confidence  info_utility vote  \\\n",
       "0           29577379   0.60  0.40         0.8           0.5  Yes   \n",
       "1           29576660   0.60  0.40         0.8           0.7  Yes   \n",
       "2           29576574   0.60  0.40         0.8           0.7  Yes   \n",
       "3           29576448   0.70  0.30         0.8           0.6  Yes   \n",
       "4           29576351   0.65  0.35         0.9           0.8  Yes   \n",
       "...              ...    ...   ...         ...           ...  ...   \n",
       "33199       30567380   0.60  0.40         0.8           0.5  Yes   \n",
       "33200       30547290   0.80  0.20         0.9           0.5  Yes   \n",
       "33201       30548137   0.20  0.80         0.6           0.3   No   \n",
       "33202       30548864   0.30  0.70         0.5           0.0   No   \n",
       "33203       30561214   0.70  0.30         0.8           0.5  Yes   \n",
       "\n",
       "       win_probability  \n",
       "0                 0.60  \n",
       "1                 0.60  \n",
       "2                 0.60  \n",
       "3                 0.70  \n",
       "4                 0.65  \n",
       "...                ...  \n",
       "33199             0.60  \n",
       "33200             0.80  \n",
       "33201             0.80  \n",
       "33202             0.70  \n",
       "33203             0.70  \n",
       "\n",
       "[33204 rows x 15 columns]"
      ]
     },
     "execution_count": 6,
     "metadata": {},
     "output_type": "execute_result"
    }
   ],
   "source": [
    "dataset"
   ]
  },
  {
   "cell_type": "code",
   "execution_count": null,
   "metadata": {},
   "outputs": [],
   "source": [
    "dataset.columns"
   ]
  },
  {
   "cell_type": "markdown",
   "metadata": {},
   "source": [
    "```\n",
    "id - bet id\n",
    "currentAnswer - current winning answer (??)\n",
    "title - the question\n",
    "request_id - request for processing by Mech\n",
    "request_block - the block in which the job was requested\n",
    "prompt - prompt given by the Trader\n",
    "tool - tool requested by the trader\n",
    "nonce - nonce\n",
    "deliver_block - block in which the result was delivered back to the trader\n",
    "p_yes - probability of yes by the tool\n",
    "p_no - probability of no by the tool\n",
    "confidence - confidence by the tool\n",
    "info_utility - utility of the additional info given to the LLM (??)\n",
    "vote - the traders position\n",
    "win_probability - win probability as predicted by the tool (same as p_yes or p_no)\n",
    "```\n",
    "\n",
    "- is actual winning answer captured?"
   ]
  },
  {
   "cell_type": "code",
   "execution_count": null,
   "metadata": {},
   "outputs": [],
   "source": [
    "dataset.shape"
   ]
  },
  {
   "cell_type": "code",
   "execution_count": null,
   "metadata": {},
   "outputs": [],
   "source": [
    "dataset.describe()"
   ]
  },
  {
   "cell_type": "markdown",
   "metadata": {},
   "source": [
    "### Normalize confidence"
   ]
  },
  {
   "cell_type": "code",
   "execution_count": null,
   "metadata": {},
   "outputs": [],
   "source": [
    "dataset[\"confidence\"].unique()"
   ]
  },
  {
   "cell_type": "code",
   "execution_count": null,
   "metadata": {},
   "outputs": [],
   "source": [
    "# number of votes below 0.5\n",
    "print(f\"Number of votes below 0.5: {dataset[dataset['confidence'] < 0.5].shape[0]}\")\n",
    "\n",
    "# drop votes below 0.5\n",
    "dataset = dataset[dataset[\"confidence\"] >= 0.5]"
   ]
  },
  {
   "cell_type": "code",
   "execution_count": null,
   "metadata": {},
   "outputs": [],
   "source": [
    "# bucket confidence into 0.5, 0.6, 0.7, 0.8, 0.9\n",
    "dataset['confidence'] = dataset['confidence'].apply(lambda x: round(x, 1))\n",
    "\n",
    "# if confidence is 1 --> 0.9\n",
    "dataset['confidence'] = dataset['confidence'].apply(lambda x: 0.9 if x == 1.0 else x)"
   ]
  },
  {
   "cell_type": "code",
   "execution_count": null,
   "metadata": {},
   "outputs": [],
   "source": [
    "dataset.loc[(dataset[\"confidence\"] >= 0.9) & (dataset[\"confidence\"] < 1), \"confidence\"] = 0.9\n",
    "dataset.loc[dataset[\"confidence\"] == 0.85, \"confidence\"] = 0.8\n",
    "dataset.loc[dataset[\"confidence\"] == 0.75, \"confidence\"] = 0.7\n",
    "dataset[\"confidence\"].unique()"
   ]
  },
  {
   "cell_type": "markdown",
   "metadata": {},
   "source": [
    "### Tool use"
   ]
  },
  {
   "cell_type": "code",
   "execution_count": null,
   "metadata": {},
   "outputs": [],
   "source": [
    "tool_use = dataset['tool'].groupby(dataset['tool']).count()\n",
    "\n",
    "# plot tool use with data labels. use subplots plot % of tool use\n",
    "fig, ax = plt.subplots()\n",
    "ax.bar(tool_use.index, tool_use.values)\n",
    "ax.set_xticklabels(tool_use.index, rotation=90)\n",
    "ax.set_ylabel('Tool Use')\n",
    "ax.set_xlabel('Tool')\n",
    "ax.set_title('Tool Use')\n",
    "for i, v in enumerate(tool_use.values):\n",
    "    ax.text(i, v + 3, str(v), ha='center')\n",
    "    # get percentage of tool use\n",
    "    total = tool_use.values.sum()\n",
    "    percent = v / total * 100\n",
    "    ax.text(i, v + 1200, f'{percent:.2f}%', ha='center')\n",
    "\n",
    "plt.show()\n"
   ]
  },
  {
   "cell_type": "markdown",
   "metadata": {},
   "source": [
    "From above, there is currently a strong tendency to choose the prediction-online and prediction-online-sme tools.\n"
   ]
  },
  {
   "cell_type": "code",
   "execution_count": null,
   "metadata": {},
   "outputs": [],
   "source": [
    "# plot p_yes for every tool\n",
    "dataset.groupby('tool')['p_yes'].mean().plot(kind='bar', title='p_yes for every tool', ylabel='p_yes', xlabel='tool', rot=90)"
   ]
  },
  {
   "cell_type": "code",
   "execution_count": null,
   "metadata": {},
   "outputs": [],
   "source": [
    "dataset.groupby('tool')['p_no'].mean().plot(kind='bar', title='p_no for every tool', ylabel='p_no', xlabel='tool', rot=90)"
   ]
  },
  {
   "cell_type": "code",
   "execution_count": null,
   "metadata": {},
   "outputs": [],
   "source": [
    "tool_vote = dataset.groupby(['tool', 'vote'])['vote'].count().unstack()\n",
    "\n",
    "fig, ax = plt.subplots()\n",
    "# plot Yes and No votes for every tool unstacked\n",
    "ax = tool_vote.plot(kind='bar', stacked=False, ax=ax, rot=90, title='Yes and No votes for every tool')\n",
    "\n",
    "# Data labels\n",
    "for i, v in enumerate(tool_vote['Yes']):\n",
    "    ax.text(i, v + 3, str(v), ha='center')\n",
    "\n",
    "for i, v in enumerate(tool_vote['No']):\n",
    "    ax.text(i, v + 20, str(v), ha='center')\n",
    "\n",
    "ax.set_ylabel('Votes')\n",
    "ax.set_xlabel('Tool')"
   ]
  },
  {
   "cell_type": "markdown",
   "metadata": {},
   "source": [
    "From above, it seems like the prediction-online tool may have a large bias towards yes answers."
   ]
  },
  {
   "cell_type": "markdown",
   "metadata": {},
   "source": [
    "The Claude-based tools are the most accurate. However, they are not chosen nearly as much as the main two. "
   ]
  },
  {
   "cell_type": "markdown",
   "metadata": {},
   "source": [
    "### Check the percentage of wins vs confidence for all the tools"
   ]
  },
  {
   "cell_type": "code",
   "execution_count": null,
   "metadata": {},
   "outputs": [],
   "source": [
    "tools_group = dataset.groupby(\"tool\")\n",
    "tools_stats_per_conf = gen_stats(df=dataset, group=tools_group, col=\"confidence\")\n",
    "display(tools_stats_per_conf)"
   ]
  },
  {
   "cell_type": "code",
   "execution_count": null,
   "metadata": {},
   "outputs": [],
   "source": [
    "tools_stats_per_conf.loc[:, (slice(None), \"accuracy\")].sort_values(by=(\"total\", \"accuracy\"), ascending=False)"
   ]
  },
  {
   "cell_type": "code",
   "execution_count": null,
   "metadata": {},
   "outputs": [],
   "source": [
    "tools = tools_stats_per_conf.index\n",
    "\n",
    "fig, axes = plt.subplots(nrows=len(tools), ncols=1, figsize=(10, 40))\n",
    "\n",
    "for i, tool in enumerate(tools):\n",
    "    ax = axes[i]\n",
    "    tool_stats = tools_stats_per_conf.loc[tool].unstack(level=0).loc[\"accuracy\"]\n",
    "    ax.bar(tool_stats.index, tool_stats.values)\n",
    "    ax.set_title(tool)\n",
    "    ax.set_ylabel(\"Accuracy\")\n",
    "    ax.set_xlabel(\"Confidence\")\n",
    "\n",
    "    for j, v in enumerate(tool_stats.values):\n",
    "\n",
    "        # add n_pred and n_correct\n",
    "        n_pred = tools_stats_per_conf.loc[tool].unstack(level=0).loc[\"n_pred\"]\n",
    "        n_correct = tools_stats_per_conf.loc[tool].unstack(level=0).loc[\"n_correct\"]\n",
    "        ax.text(j, v + 10, f\"n_pred: {n_pred[j]}\", ha='center')\n",
    "        ax.text(j, v + 17, f\"n_correct: {n_correct[j]}\", ha='center')\n",
    "        ax.text(j, v + 3, f\"accuracy: {round(v, 2)}%\", ha='center')\n",
    "\n",
    "plt.tight_layout()"
   ]
  },
  {
   "cell_type": "markdown",
   "metadata": {},
   "source": [
    "The above shows that for each tool, higher confidences do not really bring higher accuracy. "
   ]
  },
  {
   "cell_type": "code",
   "execution_count": null,
   "metadata": {},
   "outputs": [],
   "source": [
    "vote_analysis = dataset['vote'].value_counts()\n",
    "print(vote_analysis)"
   ]
  },
  {
   "cell_type": "code",
   "execution_count": null,
   "metadata": {},
   "outputs": [],
   "source": [
    "# value counts above 50\n",
    "sel = list(dataset['id'].value_counts()[dataset['id'].value_counts() > 50].index)\n",
    "sel_dataset = dataset[dataset['id'].isin(sel)]\n",
    "sel_dataset['id'].nunique()"
   ]
  },
  {
   "cell_type": "code",
   "execution_count": null,
   "metadata": {},
   "outputs": [],
   "source": [
    "tools_per_id = sel_dataset.groupby('id')['tool'].nunique()\n",
    "\n",
    "tools_per_id = tools_per_id.value_counts().sort_index()\n",
    "\n",
    "\n",
    "fig, ax = plt.subplots()\n",
    "ax.bar(tools_per_id.index, tools_per_id.values)\n",
    "ax.set_ylabel('Number of IDs')\n",
    "ax.set_xlabel('Number of Tools')\n",
    "\n",
    "for i, v in enumerate(tools_per_id.values):\n",
    "    ax.text(i+1, v, str(v), ha='center')\n",
    "\n",
    "plt.title('Number of Tools per ID. Total IDs: ' + str(sel_dataset['id'].nunique()))"
   ]
  },
  {
   "cell_type": "markdown",
   "metadata": {},
   "source": [
    "The above chart shows for each id/title what is the diversity of the tools used. Mostly, 1 or 2 is used.\n"
   ]
  },
  {
   "cell_type": "code",
   "execution_count": null,
   "metadata": {},
   "outputs": [],
   "source": [
    "dataset[['id', 'currentAnswer']].drop_duplicates()['currentAnswer'].value_counts()"
   ]
  },
  {
   "cell_type": "code",
   "execution_count": null,
   "metadata": {},
   "outputs": [],
   "source": [
    "vote_counts_per_id = dataset.groupby('id')['vote'].value_counts().unstack(fill_value=0)\n",
    "vote_counts_per_id['yes_no_ratio'] = vote_counts_per_id['Yes'] / (vote_counts_per_id['No'] +1)"
   ]
  },
  {
   "cell_type": "code",
   "execution_count": null,
   "metadata": {},
   "outputs": [],
   "source": [
    "vote_counts_per_id['yes_perc'] = vote_counts_per_id['Yes']/(vote_counts_per_id['Yes'] + vote_counts_per_id['No'])\n",
    "vote_counts_per_id['no_perc'] = vote_counts_per_id['No']/(vote_counts_per_id['Yes'] + vote_counts_per_id['No'])"
   ]
  },
  {
   "cell_type": "code",
   "execution_count": null,
   "metadata": {},
   "outputs": [],
   "source": [
    "vote_counts_per_id['yes_perc'].min(), vote_counts_per_id['yes_perc'].max(), vote_counts_per_id['yes_perc'].mean(), vote_counts_per_id['yes_perc'].median()"
   ]
  },
  {
   "cell_type": "code",
   "execution_count": null,
   "metadata": {},
   "outputs": [],
   "source": [
    "vote_counts_per_id['no_perc'].min(), vote_counts_per_id['no_perc'].max(), vote_counts_per_id['no_perc'].mean(), vote_counts_per_id['no_perc'].median()"
   ]
  },
  {
   "cell_type": "code",
   "execution_count": null,
   "metadata": {},
   "outputs": [],
   "source": [
    "dataset.groupby('id')['prompt_request'].nunique().value_counts().plot(kind='bar', title='Number of prompts per ID', ylabel='Number of IDs', xlabel='Number of prompts')"
   ]
  },
  {
   "cell_type": "markdown",
   "metadata": {},
   "source": [
    "The above chart shows for each id/title what is the diversity of the prompt coming from the trader. It seems that the default prompt is rarely changed."
   ]
  },
  {
   "cell_type": "code",
   "execution_count": null,
   "metadata": {},
   "outputs": [],
   "source": []
  }
 ],
 "metadata": {
  "kernelspec": {
   "display_name": ".venv",
   "language": "python",
   "name": "python3"
  },
  "language_info": {
   "codemirror_mode": {
    "name": "ipython",
    "version": 3
   },
   "file_extension": ".py",
   "mimetype": "text/x-python",
   "name": "python",
   "nbconvert_exporter": "python",
   "pygments_lexer": "ipython3",
   "version": "3.10.13"
  },
  "orig_nbformat": 4
 },
 "nbformat": 4,
 "nbformat_minor": 2
}
